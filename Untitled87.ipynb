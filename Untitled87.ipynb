{
  "nbformat": 4,
  "nbformat_minor": 0,
  "metadata": {
    "colab": {
      "provenance": []
    },
    "kernelspec": {
      "name": "python3",
      "display_name": "Python 3"
    },
    "language_info": {
      "name": "python"
    }
  },
  "cells": [
    {
      "cell_type": "code",
      "execution_count": null,
      "metadata": {
        "id": "Wlaw7OLR19SJ"
      },
      "outputs": [],
      "source": [
        "import numpy as np\n",
        "import pandas as pd\n",
        "import matplotlib.pyplot as plt\n",
        "%matplotlib inline\n",
        "import sklearn\n",
        "import seaborn as sns\n",
        "import warnings\n",
        "warnings.filterwarnings('ignore')\n",
        "plt.rcParams[\"figure.figsize\"] = [10,5]"
      ]
    },
    {
      "cell_type": "code",
      "source": [
        "import warnings\n",
        "# Set the warning filter to ignore FutureWarning\n",
        "warnings.simplefilter(action = \"ignore\", category = FutureWarning)"
      ],
      "metadata": {
        "id": "Ergua65u2u9a"
      },
      "execution_count": null,
      "outputs": []
    },
    {
      "cell_type": "code",
      "source": [
        "df = pd.read_csv(\"/content/Salary Prediction of Data Professions.csv\")"
      ],
      "metadata": {
        "id": "RNnDkdRK2zfN"
      },
      "execution_count": null,
      "outputs": []
    },
    {
      "cell_type": "code",
      "source": [
        "df.head()"
      ],
      "metadata": {
        "colab": {
          "base_uri": "https://localhost:8080/",
          "height": 380
        },
        "id": "vRoDhOiK3EHx",
        "outputId": "7b5b173b-bd04-4ebd-8eb6-50f16020dd26"
      },
      "execution_count": null,
      "outputs": [
        {
          "output_type": "execute_result",
          "data": {
            "text/plain": [
              "  FIRST NAME   LAST NAME SEX         DOJ CURRENT DATE DESIGNATION   AGE  \\\n",
              "0     TOMASA       ARMEN   F   5-18-2014   01-07-2016     Analyst  21.0   \n",
              "1      ANNIE         NaN   F         NaN   01-07-2016   Associate   NaN   \n",
              "2      OLIVE        ANCY   F   7-28-2014   01-07-2016     Analyst  21.0   \n",
              "3     CHERRY     AQUILAR   F  04-03-2013   01-07-2016     Analyst  22.0   \n",
              "4       LEON  ABOULAHOUD   M  11-20-2014   01-07-2016     Analyst   NaN   \n",
              "\n",
              "   SALARY        UNIT  LEAVES USED  LEAVES REMAINING  RATINGS  PAST EXP  \n",
              "0   44570     Finance         24.0               6.0      2.0         0  \n",
              "1   89207         Web          NaN              13.0      NaN         7  \n",
              "2   40955     Finance         23.0               7.0      3.0         0  \n",
              "3   45550          IT         22.0               8.0      3.0         0  \n",
              "4   43161  Operations         27.0               3.0      NaN         3  "
            ],
            "text/html": [
              "\n",
              "  <div id=\"df-71832e51-3a59-4168-8943-bfe390232f9c\" class=\"colab-df-container\">\n",
              "    <div>\n",
              "<style scoped>\n",
              "    .dataframe tbody tr th:only-of-type {\n",
              "        vertical-align: middle;\n",
              "    }\n",
              "\n",
              "    .dataframe tbody tr th {\n",
              "        vertical-align: top;\n",
              "    }\n",
              "\n",
              "    .dataframe thead th {\n",
              "        text-align: right;\n",
              "    }\n",
              "</style>\n",
              "<table border=\"1\" class=\"dataframe\">\n",
              "  <thead>\n",
              "    <tr style=\"text-align: right;\">\n",
              "      <th></th>\n",
              "      <th>FIRST NAME</th>\n",
              "      <th>LAST NAME</th>\n",
              "      <th>SEX</th>\n",
              "      <th>DOJ</th>\n",
              "      <th>CURRENT DATE</th>\n",
              "      <th>DESIGNATION</th>\n",
              "      <th>AGE</th>\n",
              "      <th>SALARY</th>\n",
              "      <th>UNIT</th>\n",
              "      <th>LEAVES USED</th>\n",
              "      <th>LEAVES REMAINING</th>\n",
              "      <th>RATINGS</th>\n",
              "      <th>PAST EXP</th>\n",
              "    </tr>\n",
              "  </thead>\n",
              "  <tbody>\n",
              "    <tr>\n",
              "      <th>0</th>\n",
              "      <td>TOMASA</td>\n",
              "      <td>ARMEN</td>\n",
              "      <td>F</td>\n",
              "      <td>5-18-2014</td>\n",
              "      <td>01-07-2016</td>\n",
              "      <td>Analyst</td>\n",
              "      <td>21.0</td>\n",
              "      <td>44570</td>\n",
              "      <td>Finance</td>\n",
              "      <td>24.0</td>\n",
              "      <td>6.0</td>\n",
              "      <td>2.0</td>\n",
              "      <td>0</td>\n",
              "    </tr>\n",
              "    <tr>\n",
              "      <th>1</th>\n",
              "      <td>ANNIE</td>\n",
              "      <td>NaN</td>\n",
              "      <td>F</td>\n",
              "      <td>NaN</td>\n",
              "      <td>01-07-2016</td>\n",
              "      <td>Associate</td>\n",
              "      <td>NaN</td>\n",
              "      <td>89207</td>\n",
              "      <td>Web</td>\n",
              "      <td>NaN</td>\n",
              "      <td>13.0</td>\n",
              "      <td>NaN</td>\n",
              "      <td>7</td>\n",
              "    </tr>\n",
              "    <tr>\n",
              "      <th>2</th>\n",
              "      <td>OLIVE</td>\n",
              "      <td>ANCY</td>\n",
              "      <td>F</td>\n",
              "      <td>7-28-2014</td>\n",
              "      <td>01-07-2016</td>\n",
              "      <td>Analyst</td>\n",
              "      <td>21.0</td>\n",
              "      <td>40955</td>\n",
              "      <td>Finance</td>\n",
              "      <td>23.0</td>\n",
              "      <td>7.0</td>\n",
              "      <td>3.0</td>\n",
              "      <td>0</td>\n",
              "    </tr>\n",
              "    <tr>\n",
              "      <th>3</th>\n",
              "      <td>CHERRY</td>\n",
              "      <td>AQUILAR</td>\n",
              "      <td>F</td>\n",
              "      <td>04-03-2013</td>\n",
              "      <td>01-07-2016</td>\n",
              "      <td>Analyst</td>\n",
              "      <td>22.0</td>\n",
              "      <td>45550</td>\n",
              "      <td>IT</td>\n",
              "      <td>22.0</td>\n",
              "      <td>8.0</td>\n",
              "      <td>3.0</td>\n",
              "      <td>0</td>\n",
              "    </tr>\n",
              "    <tr>\n",
              "      <th>4</th>\n",
              "      <td>LEON</td>\n",
              "      <td>ABOULAHOUD</td>\n",
              "      <td>M</td>\n",
              "      <td>11-20-2014</td>\n",
              "      <td>01-07-2016</td>\n",
              "      <td>Analyst</td>\n",
              "      <td>NaN</td>\n",
              "      <td>43161</td>\n",
              "      <td>Operations</td>\n",
              "      <td>27.0</td>\n",
              "      <td>3.0</td>\n",
              "      <td>NaN</td>\n",
              "      <td>3</td>\n",
              "    </tr>\n",
              "  </tbody>\n",
              "</table>\n",
              "</div>\n",
              "    <div class=\"colab-df-buttons\">\n",
              "\n",
              "  <div class=\"colab-df-container\">\n",
              "    <button class=\"colab-df-convert\" onclick=\"convertToInteractive('df-71832e51-3a59-4168-8943-bfe390232f9c')\"\n",
              "            title=\"Convert this dataframe to an interactive table.\"\n",
              "            style=\"display:none;\">\n",
              "\n",
              "  <svg xmlns=\"http://www.w3.org/2000/svg\" height=\"24px\" viewBox=\"0 -960 960 960\">\n",
              "    <path d=\"M120-120v-720h720v720H120Zm60-500h600v-160H180v160Zm220 220h160v-160H400v160Zm0 220h160v-160H400v160ZM180-400h160v-160H180v160Zm440 0h160v-160H620v160ZM180-180h160v-160H180v160Zm440 0h160v-160H620v160Z\"/>\n",
              "  </svg>\n",
              "    </button>\n",
              "\n",
              "  <style>\n",
              "    .colab-df-container {\n",
              "      display:flex;\n",
              "      gap: 12px;\n",
              "    }\n",
              "\n",
              "    .colab-df-convert {\n",
              "      background-color: #E8F0FE;\n",
              "      border: none;\n",
              "      border-radius: 50%;\n",
              "      cursor: pointer;\n",
              "      display: none;\n",
              "      fill: #1967D2;\n",
              "      height: 32px;\n",
              "      padding: 0 0 0 0;\n",
              "      width: 32px;\n",
              "    }\n",
              "\n",
              "    .colab-df-convert:hover {\n",
              "      background-color: #E2EBFA;\n",
              "      box-shadow: 0px 1px 2px rgba(60, 64, 67, 0.3), 0px 1px 3px 1px rgba(60, 64, 67, 0.15);\n",
              "      fill: #174EA6;\n",
              "    }\n",
              "\n",
              "    .colab-df-buttons div {\n",
              "      margin-bottom: 4px;\n",
              "    }\n",
              "\n",
              "    [theme=dark] .colab-df-convert {\n",
              "      background-color: #3B4455;\n",
              "      fill: #D2E3FC;\n",
              "    }\n",
              "\n",
              "    [theme=dark] .colab-df-convert:hover {\n",
              "      background-color: #434B5C;\n",
              "      box-shadow: 0px 1px 3px 1px rgba(0, 0, 0, 0.15);\n",
              "      filter: drop-shadow(0px 1px 2px rgba(0, 0, 0, 0.3));\n",
              "      fill: #FFFFFF;\n",
              "    }\n",
              "  </style>\n",
              "\n",
              "    <script>\n",
              "      const buttonEl =\n",
              "        document.querySelector('#df-71832e51-3a59-4168-8943-bfe390232f9c button.colab-df-convert');\n",
              "      buttonEl.style.display =\n",
              "        google.colab.kernel.accessAllowed ? 'block' : 'none';\n",
              "\n",
              "      async function convertToInteractive(key) {\n",
              "        const element = document.querySelector('#df-71832e51-3a59-4168-8943-bfe390232f9c');\n",
              "        const dataTable =\n",
              "          await google.colab.kernel.invokeFunction('convertToInteractive',\n",
              "                                                    [key], {});\n",
              "        if (!dataTable) return;\n",
              "\n",
              "        const docLinkHtml = 'Like what you see? Visit the ' +\n",
              "          '<a target=\"_blank\" href=https://colab.research.google.com/notebooks/data_table.ipynb>data table notebook</a>'\n",
              "          + ' to learn more about interactive tables.';\n",
              "        element.innerHTML = '';\n",
              "        dataTable['output_type'] = 'display_data';\n",
              "        await google.colab.output.renderOutput(dataTable, element);\n",
              "        const docLink = document.createElement('div');\n",
              "        docLink.innerHTML = docLinkHtml;\n",
              "        element.appendChild(docLink);\n",
              "      }\n",
              "    </script>\n",
              "  </div>\n",
              "\n",
              "\n",
              "<div id=\"df-1d024148-bfe1-4684-8d68-39ed14e10445\">\n",
              "  <button class=\"colab-df-quickchart\" onclick=\"quickchart('df-1d024148-bfe1-4684-8d68-39ed14e10445')\"\n",
              "            title=\"Suggest charts\"\n",
              "            style=\"display:none;\">\n",
              "\n",
              "<svg xmlns=\"http://www.w3.org/2000/svg\" height=\"24px\"viewBox=\"0 0 24 24\"\n",
              "     width=\"24px\">\n",
              "    <g>\n",
              "        <path d=\"M19 3H5c-1.1 0-2 .9-2 2v14c0 1.1.9 2 2 2h14c1.1 0 2-.9 2-2V5c0-1.1-.9-2-2-2zM9 17H7v-7h2v7zm4 0h-2V7h2v10zm4 0h-2v-4h2v4z\"/>\n",
              "    </g>\n",
              "</svg>\n",
              "  </button>\n",
              "\n",
              "<style>\n",
              "  .colab-df-quickchart {\n",
              "      --bg-color: #E8F0FE;\n",
              "      --fill-color: #1967D2;\n",
              "      --hover-bg-color: #E2EBFA;\n",
              "      --hover-fill-color: #174EA6;\n",
              "      --disabled-fill-color: #AAA;\n",
              "      --disabled-bg-color: #DDD;\n",
              "  }\n",
              "\n",
              "  [theme=dark] .colab-df-quickchart {\n",
              "      --bg-color: #3B4455;\n",
              "      --fill-color: #D2E3FC;\n",
              "      --hover-bg-color: #434B5C;\n",
              "      --hover-fill-color: #FFFFFF;\n",
              "      --disabled-bg-color: #3B4455;\n",
              "      --disabled-fill-color: #666;\n",
              "  }\n",
              "\n",
              "  .colab-df-quickchart {\n",
              "    background-color: var(--bg-color);\n",
              "    border: none;\n",
              "    border-radius: 50%;\n",
              "    cursor: pointer;\n",
              "    display: none;\n",
              "    fill: var(--fill-color);\n",
              "    height: 32px;\n",
              "    padding: 0;\n",
              "    width: 32px;\n",
              "  }\n",
              "\n",
              "  .colab-df-quickchart:hover {\n",
              "    background-color: var(--hover-bg-color);\n",
              "    box-shadow: 0 1px 2px rgba(60, 64, 67, 0.3), 0 1px 3px 1px rgba(60, 64, 67, 0.15);\n",
              "    fill: var(--button-hover-fill-color);\n",
              "  }\n",
              "\n",
              "  .colab-df-quickchart-complete:disabled,\n",
              "  .colab-df-quickchart-complete:disabled:hover {\n",
              "    background-color: var(--disabled-bg-color);\n",
              "    fill: var(--disabled-fill-color);\n",
              "    box-shadow: none;\n",
              "  }\n",
              "\n",
              "  .colab-df-spinner {\n",
              "    border: 2px solid var(--fill-color);\n",
              "    border-color: transparent;\n",
              "    border-bottom-color: var(--fill-color);\n",
              "    animation:\n",
              "      spin 1s steps(1) infinite;\n",
              "  }\n",
              "\n",
              "  @keyframes spin {\n",
              "    0% {\n",
              "      border-color: transparent;\n",
              "      border-bottom-color: var(--fill-color);\n",
              "      border-left-color: var(--fill-color);\n",
              "    }\n",
              "    20% {\n",
              "      border-color: transparent;\n",
              "      border-left-color: var(--fill-color);\n",
              "      border-top-color: var(--fill-color);\n",
              "    }\n",
              "    30% {\n",
              "      border-color: transparent;\n",
              "      border-left-color: var(--fill-color);\n",
              "      border-top-color: var(--fill-color);\n",
              "      border-right-color: var(--fill-color);\n",
              "    }\n",
              "    40% {\n",
              "      border-color: transparent;\n",
              "      border-right-color: var(--fill-color);\n",
              "      border-top-color: var(--fill-color);\n",
              "    }\n",
              "    60% {\n",
              "      border-color: transparent;\n",
              "      border-right-color: var(--fill-color);\n",
              "    }\n",
              "    80% {\n",
              "      border-color: transparent;\n",
              "      border-right-color: var(--fill-color);\n",
              "      border-bottom-color: var(--fill-color);\n",
              "    }\n",
              "    90% {\n",
              "      border-color: transparent;\n",
              "      border-bottom-color: var(--fill-color);\n",
              "    }\n",
              "  }\n",
              "</style>\n",
              "\n",
              "  <script>\n",
              "    async function quickchart(key) {\n",
              "      const quickchartButtonEl =\n",
              "        document.querySelector('#' + key + ' button');\n",
              "      quickchartButtonEl.disabled = true;  // To prevent multiple clicks.\n",
              "      quickchartButtonEl.classList.add('colab-df-spinner');\n",
              "      try {\n",
              "        const charts = await google.colab.kernel.invokeFunction(\n",
              "            'suggestCharts', [key], {});\n",
              "      } catch (error) {\n",
              "        console.error('Error during call to suggestCharts:', error);\n",
              "      }\n",
              "      quickchartButtonEl.classList.remove('colab-df-spinner');\n",
              "      quickchartButtonEl.classList.add('colab-df-quickchart-complete');\n",
              "    }\n",
              "    (() => {\n",
              "      let quickchartButtonEl =\n",
              "        document.querySelector('#df-1d024148-bfe1-4684-8d68-39ed14e10445 button');\n",
              "      quickchartButtonEl.style.display =\n",
              "        google.colab.kernel.accessAllowed ? 'block' : 'none';\n",
              "    })();\n",
              "  </script>\n",
              "</div>\n",
              "\n",
              "    </div>\n",
              "  </div>\n"
            ]
          },
          "metadata": {},
          "execution_count": 76
        }
      ]
    },
    {
      "cell_type": "markdown",
      "source": [
        "# **1. Exploratory Data Analysis (EDA):**"
      ],
      "metadata": {
        "id": "DutPs8cP5vx_"
      }
    },
    {
      "cell_type": "code",
      "source": [
        "df.describe()"
      ],
      "metadata": {
        "colab": {
          "base_uri": "https://localhost:8080/",
          "height": 300
        },
        "id": "DK4rl4ReK6dL",
        "outputId": "34a9f33c-ccd2-4bb8-c3f5-8b10a9fe2b93"
      },
      "execution_count": null,
      "outputs": [
        {
          "output_type": "execute_result",
          "data": {
            "text/plain": [
              "               AGE         SALARY  LEAVES USED  LEAVES REMAINING      RATINGS  \\\n",
              "count  2636.000000    2639.000000  2636.000000       2637.000000  2637.000000   \n",
              "mean     24.756449   58136.678287    22.501517          7.503223     3.486159   \n",
              "std       3.908228   36876.956944     4.604469          4.603193     1.114933   \n",
              "min      21.000000   40001.000000    15.000000          0.000000     2.000000   \n",
              "25%      22.000000   43418.000000    19.000000          4.000000     2.000000   \n",
              "50%      24.000000   46781.000000    22.000000          8.000000     3.000000   \n",
              "75%      25.000000   51401.500000    26.000000         11.000000     4.000000   \n",
              "max      45.000000  388112.000000    30.000000         15.000000     5.000000   \n",
              "\n",
              "          PAST EXP  \n",
              "count  2639.000000  \n",
              "mean      1.566881  \n",
              "std       2.728416  \n",
              "min       0.000000  \n",
              "25%       0.000000  \n",
              "50%       1.000000  \n",
              "75%       2.000000  \n",
              "max      23.000000  "
            ],
            "text/html": [
              "\n",
              "  <div id=\"df-c1914109-a69b-4057-94e5-158b0b52fdaa\" class=\"colab-df-container\">\n",
              "    <div>\n",
              "<style scoped>\n",
              "    .dataframe tbody tr th:only-of-type {\n",
              "        vertical-align: middle;\n",
              "    }\n",
              "\n",
              "    .dataframe tbody tr th {\n",
              "        vertical-align: top;\n",
              "    }\n",
              "\n",
              "    .dataframe thead th {\n",
              "        text-align: right;\n",
              "    }\n",
              "</style>\n",
              "<table border=\"1\" class=\"dataframe\">\n",
              "  <thead>\n",
              "    <tr style=\"text-align: right;\">\n",
              "      <th></th>\n",
              "      <th>AGE</th>\n",
              "      <th>SALARY</th>\n",
              "      <th>LEAVES USED</th>\n",
              "      <th>LEAVES REMAINING</th>\n",
              "      <th>RATINGS</th>\n",
              "      <th>PAST EXP</th>\n",
              "    </tr>\n",
              "  </thead>\n",
              "  <tbody>\n",
              "    <tr>\n",
              "      <th>count</th>\n",
              "      <td>2636.000000</td>\n",
              "      <td>2639.000000</td>\n",
              "      <td>2636.000000</td>\n",
              "      <td>2637.000000</td>\n",
              "      <td>2637.000000</td>\n",
              "      <td>2639.000000</td>\n",
              "    </tr>\n",
              "    <tr>\n",
              "      <th>mean</th>\n",
              "      <td>24.756449</td>\n",
              "      <td>58136.678287</td>\n",
              "      <td>22.501517</td>\n",
              "      <td>7.503223</td>\n",
              "      <td>3.486159</td>\n",
              "      <td>1.566881</td>\n",
              "    </tr>\n",
              "    <tr>\n",
              "      <th>std</th>\n",
              "      <td>3.908228</td>\n",
              "      <td>36876.956944</td>\n",
              "      <td>4.604469</td>\n",
              "      <td>4.603193</td>\n",
              "      <td>1.114933</td>\n",
              "      <td>2.728416</td>\n",
              "    </tr>\n",
              "    <tr>\n",
              "      <th>min</th>\n",
              "      <td>21.000000</td>\n",
              "      <td>40001.000000</td>\n",
              "      <td>15.000000</td>\n",
              "      <td>0.000000</td>\n",
              "      <td>2.000000</td>\n",
              "      <td>0.000000</td>\n",
              "    </tr>\n",
              "    <tr>\n",
              "      <th>25%</th>\n",
              "      <td>22.000000</td>\n",
              "      <td>43418.000000</td>\n",
              "      <td>19.000000</td>\n",
              "      <td>4.000000</td>\n",
              "      <td>2.000000</td>\n",
              "      <td>0.000000</td>\n",
              "    </tr>\n",
              "    <tr>\n",
              "      <th>50%</th>\n",
              "      <td>24.000000</td>\n",
              "      <td>46781.000000</td>\n",
              "      <td>22.000000</td>\n",
              "      <td>8.000000</td>\n",
              "      <td>3.000000</td>\n",
              "      <td>1.000000</td>\n",
              "    </tr>\n",
              "    <tr>\n",
              "      <th>75%</th>\n",
              "      <td>25.000000</td>\n",
              "      <td>51401.500000</td>\n",
              "      <td>26.000000</td>\n",
              "      <td>11.000000</td>\n",
              "      <td>4.000000</td>\n",
              "      <td>2.000000</td>\n",
              "    </tr>\n",
              "    <tr>\n",
              "      <th>max</th>\n",
              "      <td>45.000000</td>\n",
              "      <td>388112.000000</td>\n",
              "      <td>30.000000</td>\n",
              "      <td>15.000000</td>\n",
              "      <td>5.000000</td>\n",
              "      <td>23.000000</td>\n",
              "    </tr>\n",
              "  </tbody>\n",
              "</table>\n",
              "</div>\n",
              "    <div class=\"colab-df-buttons\">\n",
              "\n",
              "  <div class=\"colab-df-container\">\n",
              "    <button class=\"colab-df-convert\" onclick=\"convertToInteractive('df-c1914109-a69b-4057-94e5-158b0b52fdaa')\"\n",
              "            title=\"Convert this dataframe to an interactive table.\"\n",
              "            style=\"display:none;\">\n",
              "\n",
              "  <svg xmlns=\"http://www.w3.org/2000/svg\" height=\"24px\" viewBox=\"0 -960 960 960\">\n",
              "    <path d=\"M120-120v-720h720v720H120Zm60-500h600v-160H180v160Zm220 220h160v-160H400v160Zm0 220h160v-160H400v160ZM180-400h160v-160H180v160Zm440 0h160v-160H620v160ZM180-180h160v-160H180v160Zm440 0h160v-160H620v160Z\"/>\n",
              "  </svg>\n",
              "    </button>\n",
              "\n",
              "  <style>\n",
              "    .colab-df-container {\n",
              "      display:flex;\n",
              "      gap: 12px;\n",
              "    }\n",
              "\n",
              "    .colab-df-convert {\n",
              "      background-color: #E8F0FE;\n",
              "      border: none;\n",
              "      border-radius: 50%;\n",
              "      cursor: pointer;\n",
              "      display: none;\n",
              "      fill: #1967D2;\n",
              "      height: 32px;\n",
              "      padding: 0 0 0 0;\n",
              "      width: 32px;\n",
              "    }\n",
              "\n",
              "    .colab-df-convert:hover {\n",
              "      background-color: #E2EBFA;\n",
              "      box-shadow: 0px 1px 2px rgba(60, 64, 67, 0.3), 0px 1px 3px 1px rgba(60, 64, 67, 0.15);\n",
              "      fill: #174EA6;\n",
              "    }\n",
              "\n",
              "    .colab-df-buttons div {\n",
              "      margin-bottom: 4px;\n",
              "    }\n",
              "\n",
              "    [theme=dark] .colab-df-convert {\n",
              "      background-color: #3B4455;\n",
              "      fill: #D2E3FC;\n",
              "    }\n",
              "\n",
              "    [theme=dark] .colab-df-convert:hover {\n",
              "      background-color: #434B5C;\n",
              "      box-shadow: 0px 1px 3px 1px rgba(0, 0, 0, 0.15);\n",
              "      filter: drop-shadow(0px 1px 2px rgba(0, 0, 0, 0.3));\n",
              "      fill: #FFFFFF;\n",
              "    }\n",
              "  </style>\n",
              "\n",
              "    <script>\n",
              "      const buttonEl =\n",
              "        document.querySelector('#df-c1914109-a69b-4057-94e5-158b0b52fdaa button.colab-df-convert');\n",
              "      buttonEl.style.display =\n",
              "        google.colab.kernel.accessAllowed ? 'block' : 'none';\n",
              "\n",
              "      async function convertToInteractive(key) {\n",
              "        const element = document.querySelector('#df-c1914109-a69b-4057-94e5-158b0b52fdaa');\n",
              "        const dataTable =\n",
              "          await google.colab.kernel.invokeFunction('convertToInteractive',\n",
              "                                                    [key], {});\n",
              "        if (!dataTable) return;\n",
              "\n",
              "        const docLinkHtml = 'Like what you see? Visit the ' +\n",
              "          '<a target=\"_blank\" href=https://colab.research.google.com/notebooks/data_table.ipynb>data table notebook</a>'\n",
              "          + ' to learn more about interactive tables.';\n",
              "        element.innerHTML = '';\n",
              "        dataTable['output_type'] = 'display_data';\n",
              "        await google.colab.output.renderOutput(dataTable, element);\n",
              "        const docLink = document.createElement('div');\n",
              "        docLink.innerHTML = docLinkHtml;\n",
              "        element.appendChild(docLink);\n",
              "      }\n",
              "    </script>\n",
              "  </div>\n",
              "\n",
              "\n",
              "<div id=\"df-a04eb98e-6208-4fb4-abd7-464029576b2f\">\n",
              "  <button class=\"colab-df-quickchart\" onclick=\"quickchart('df-a04eb98e-6208-4fb4-abd7-464029576b2f')\"\n",
              "            title=\"Suggest charts\"\n",
              "            style=\"display:none;\">\n",
              "\n",
              "<svg xmlns=\"http://www.w3.org/2000/svg\" height=\"24px\"viewBox=\"0 0 24 24\"\n",
              "     width=\"24px\">\n",
              "    <g>\n",
              "        <path d=\"M19 3H5c-1.1 0-2 .9-2 2v14c0 1.1.9 2 2 2h14c1.1 0 2-.9 2-2V5c0-1.1-.9-2-2-2zM9 17H7v-7h2v7zm4 0h-2V7h2v10zm4 0h-2v-4h2v4z\"/>\n",
              "    </g>\n",
              "</svg>\n",
              "  </button>\n",
              "\n",
              "<style>\n",
              "  .colab-df-quickchart {\n",
              "      --bg-color: #E8F0FE;\n",
              "      --fill-color: #1967D2;\n",
              "      --hover-bg-color: #E2EBFA;\n",
              "      --hover-fill-color: #174EA6;\n",
              "      --disabled-fill-color: #AAA;\n",
              "      --disabled-bg-color: #DDD;\n",
              "  }\n",
              "\n",
              "  [theme=dark] .colab-df-quickchart {\n",
              "      --bg-color: #3B4455;\n",
              "      --fill-color: #D2E3FC;\n",
              "      --hover-bg-color: #434B5C;\n",
              "      --hover-fill-color: #FFFFFF;\n",
              "      --disabled-bg-color: #3B4455;\n",
              "      --disabled-fill-color: #666;\n",
              "  }\n",
              "\n",
              "  .colab-df-quickchart {\n",
              "    background-color: var(--bg-color);\n",
              "    border: none;\n",
              "    border-radius: 50%;\n",
              "    cursor: pointer;\n",
              "    display: none;\n",
              "    fill: var(--fill-color);\n",
              "    height: 32px;\n",
              "    padding: 0;\n",
              "    width: 32px;\n",
              "  }\n",
              "\n",
              "  .colab-df-quickchart:hover {\n",
              "    background-color: var(--hover-bg-color);\n",
              "    box-shadow: 0 1px 2px rgba(60, 64, 67, 0.3), 0 1px 3px 1px rgba(60, 64, 67, 0.15);\n",
              "    fill: var(--button-hover-fill-color);\n",
              "  }\n",
              "\n",
              "  .colab-df-quickchart-complete:disabled,\n",
              "  .colab-df-quickchart-complete:disabled:hover {\n",
              "    background-color: var(--disabled-bg-color);\n",
              "    fill: var(--disabled-fill-color);\n",
              "    box-shadow: none;\n",
              "  }\n",
              "\n",
              "  .colab-df-spinner {\n",
              "    border: 2px solid var(--fill-color);\n",
              "    border-color: transparent;\n",
              "    border-bottom-color: var(--fill-color);\n",
              "    animation:\n",
              "      spin 1s steps(1) infinite;\n",
              "  }\n",
              "\n",
              "  @keyframes spin {\n",
              "    0% {\n",
              "      border-color: transparent;\n",
              "      border-bottom-color: var(--fill-color);\n",
              "      border-left-color: var(--fill-color);\n",
              "    }\n",
              "    20% {\n",
              "      border-color: transparent;\n",
              "      border-left-color: var(--fill-color);\n",
              "      border-top-color: var(--fill-color);\n",
              "    }\n",
              "    30% {\n",
              "      border-color: transparent;\n",
              "      border-left-color: var(--fill-color);\n",
              "      border-top-color: var(--fill-color);\n",
              "      border-right-color: var(--fill-color);\n",
              "    }\n",
              "    40% {\n",
              "      border-color: transparent;\n",
              "      border-right-color: var(--fill-color);\n",
              "      border-top-color: var(--fill-color);\n",
              "    }\n",
              "    60% {\n",
              "      border-color: transparent;\n",
              "      border-right-color: var(--fill-color);\n",
              "    }\n",
              "    80% {\n",
              "      border-color: transparent;\n",
              "      border-right-color: var(--fill-color);\n",
              "      border-bottom-color: var(--fill-color);\n",
              "    }\n",
              "    90% {\n",
              "      border-color: transparent;\n",
              "      border-bottom-color: var(--fill-color);\n",
              "    }\n",
              "  }\n",
              "</style>\n",
              "\n",
              "  <script>\n",
              "    async function quickchart(key) {\n",
              "      const quickchartButtonEl =\n",
              "        document.querySelector('#' + key + ' button');\n",
              "      quickchartButtonEl.disabled = true;  // To prevent multiple clicks.\n",
              "      quickchartButtonEl.classList.add('colab-df-spinner');\n",
              "      try {\n",
              "        const charts = await google.colab.kernel.invokeFunction(\n",
              "            'suggestCharts', [key], {});\n",
              "      } catch (error) {\n",
              "        console.error('Error during call to suggestCharts:', error);\n",
              "      }\n",
              "      quickchartButtonEl.classList.remove('colab-df-spinner');\n",
              "      quickchartButtonEl.classList.add('colab-df-quickchart-complete');\n",
              "    }\n",
              "    (() => {\n",
              "      let quickchartButtonEl =\n",
              "        document.querySelector('#df-a04eb98e-6208-4fb4-abd7-464029576b2f button');\n",
              "      quickchartButtonEl.style.display =\n",
              "        google.colab.kernel.accessAllowed ? 'block' : 'none';\n",
              "    })();\n",
              "  </script>\n",
              "</div>\n",
              "\n",
              "    </div>\n",
              "  </div>\n"
            ]
          },
          "metadata": {},
          "execution_count": 77
        }
      ]
    },
    {
      "cell_type": "markdown",
      "source": [
        "It shows the summary to all the descriptive statistics of the features of the dataset."
      ],
      "metadata": {
        "id": "9Yok7rBYLaad"
      }
    },
    {
      "cell_type": "code",
      "source": [
        "df.shape"
      ],
      "metadata": {
        "colab": {
          "base_uri": "https://localhost:8080/"
        },
        "id": "NiSK_98d3PnE",
        "outputId": "e7de92b0-d384-4196-f7f1-00ac342ea4be"
      },
      "execution_count": null,
      "outputs": [
        {
          "output_type": "execute_result",
          "data": {
            "text/plain": [
              "(2639, 13)"
            ]
          },
          "metadata": {},
          "execution_count": 78
        }
      ]
    },
    {
      "cell_type": "markdown",
      "source": [
        "It shows the shape of the dataset. That there are 2639 rows and 13 columns\n",
        "\n"
      ],
      "metadata": {
        "id": "eZQ_oWc_3Y0I"
      }
    },
    {
      "cell_type": "code",
      "source": [
        "df.info()"
      ],
      "metadata": {
        "colab": {
          "base_uri": "https://localhost:8080/"
        },
        "id": "n5hLEViG3fiQ",
        "outputId": "363fff79-2ca0-4a6b-b4a1-44401e9325df"
      },
      "execution_count": null,
      "outputs": [
        {
          "output_type": "stream",
          "name": "stdout",
          "text": [
            "<class 'pandas.core.frame.DataFrame'>\n",
            "RangeIndex: 2639 entries, 0 to 2638\n",
            "Data columns (total 13 columns):\n",
            " #   Column            Non-Null Count  Dtype  \n",
            "---  ------            --------------  -----  \n",
            " 0   FIRST NAME        2639 non-null   object \n",
            " 1   LAST NAME         2637 non-null   object \n",
            " 2   SEX               2639 non-null   object \n",
            " 3   DOJ               2638 non-null   object \n",
            " 4   CURRENT DATE      2639 non-null   object \n",
            " 5   DESIGNATION       2639 non-null   object \n",
            " 6   AGE               2636 non-null   float64\n",
            " 7   SALARY            2639 non-null   int64  \n",
            " 8   UNIT              2639 non-null   object \n",
            " 9   LEAVES USED       2636 non-null   float64\n",
            " 10  LEAVES REMAINING  2637 non-null   float64\n",
            " 11  RATINGS           2637 non-null   float64\n",
            " 12  PAST EXP          2639 non-null   int64  \n",
            "dtypes: float64(4), int64(2), object(7)\n",
            "memory usage: 268.1+ KB\n"
          ]
        }
      ]
    },
    {
      "cell_type": "markdown",
      "source": [
        "It shows the datatypes and the non-null value count of the data set feature/columns.\n",
        "\n",
        "It also shows that out of the  twelve features seven have the object data types while the remaining are the numeric ones.\n",
        "\n",
        "From this we can also conclude that the dataset is almost complete and there are only a few number of missing values."
      ],
      "metadata": {
        "id": "BH58t_7G3jwy"
      }
    },
    {
      "cell_type": "markdown",
      "source": [],
      "metadata": {
        "id": "pQ2kghzZ5uKi"
      }
    },
    {
      "cell_type": "code",
      "source": [
        "# Univariate Analysis for numeric variables\n",
        "numeric_columns = ['AGE', 'SALARY', 'LEAVES USED', 'LEAVES REMAINING', 'RATINGS', 'PAST EXP']\n",
        "\n",
        "# Creating histograms for numeric variable\n",
        "plt.figure(figsize=(8, 5))\n",
        "sns.histplot(df[numeric_columns[0]], kde=True)\n",
        "plt.title(f'Univariate Analysis - {numeric_columns[0]}')\n",
        "plt.xlabel(numeric_columns[0])\n",
        "plt.ylabel('Frequency')\n",
        "plt.show()"
      ],
      "metadata": {
        "colab": {
          "base_uri": "https://localhost:8080/",
          "height": 487
        },
        "id": "tBKn2NXO3p7d",
        "outputId": "f708ff31-a166-4be3-e928-c4142ffc617e"
      },
      "execution_count": null,
      "outputs": [
        {
          "output_type": "display_data",
          "data": {
            "text/plain": [
              "<Figure size 800x500 with 1 Axes>"
            ],
            "image/png": "[encoded data removed]"
          },
          "metadata": {}
        }
      ]
    },
    {
      "cell_type": "markdown",
      "source": [
        "It shows that most of the employees are between 20 and 25. So most of the employees in the dataset are young. And the no of employees decrease as the increase in age."
      ],
      "metadata": {
        "id": "aiYhMA-p8I5s"
      }
    },
    {
      "cell_type": "code",
      "source": [
        "plt.figure(figsize=(8, 5))\n",
        "sns.histplot(df[numeric_columns[1]], kde=True)\n",
        "plt.title(f'Univariate Analysis - {numeric_columns[1]}')\n",
        "plt.xlabel(numeric_columns[1])\n",
        "plt.ylabel('Frequency')\n",
        "plt.show()"
      ],
      "metadata": {
        "colab": {
          "base_uri": "https://localhost:8080/",
          "height": 487
        },
        "id": "26lpYyF_6Ejh",
        "outputId": "388af722-c613-407c-98c2-eb3ff1fc615f"
      },
      "execution_count": null,
      "outputs": [
        {
          "output_type": "display_data",
          "data": {
            "text/plain": [
              "<Figure size 800x500 with 1 Axes>"
            ],
            "image/png": "[encoded data removed]"
          },
          "metadata": {}
        }
      ]
    },
    {
      "cell_type": "markdown",
      "source": [
        "It shows that most of the employees has their salary around 50000. And there are a few employees with salaries higher than 100000."
      ],
      "metadata": {
        "id": "fYHguoV_8tlZ"
      }
    },
    {
      "cell_type": "code",
      "source": [
        "plt.figure(figsize=(8, 5))\n",
        "sns.histplot(df[numeric_columns[2]], kde=True)\n",
        "plt.title(f'Univariate Analysis - {numeric_columns[2]}')\n",
        "plt.xlabel(numeric_columns[2])\n",
        "plt.ylabel('Frequency')\n",
        "plt.show()"
      ],
      "metadata": {
        "colab": {
          "base_uri": "https://localhost:8080/",
          "height": 487
        },
        "id": "i9cCa6jb7qkn",
        "outputId": "fa5d8d77-bc79-4122-fb52-9f8d9944c3df"
      },
      "execution_count": null,
      "outputs": [
        {
          "output_type": "display_data",
          "data": {
            "text/plain": [
              "<Figure size 800x500 with 1 Axes>"
            ],
            "image/png": "[encoded data removed]"
          },
          "metadata": {}
        }
      ]
    },
    {
      "cell_type": "markdown",
      "source": [
        "The leaves used by the employees are almost uniform. Yeah but there is a peak at 30 which means there are more number of employees which have used 30 leaves."
      ],
      "metadata": {
        "id": "s4Bi6TP29G8I"
      }
    },
    {
      "cell_type": "code",
      "source": [
        "plt.figure(figsize=(8, 5))\n",
        "sns.histplot(df[numeric_columns[3]], kde=True)\n",
        "plt.title(f'Univariate Analysis - {numeric_columns[3]}')\n",
        "plt.xlabel(numeric_columns[3])\n",
        "plt.ylabel('Frequency')\n",
        "plt.show()"
      ],
      "metadata": {
        "colab": {
          "base_uri": "https://localhost:8080/",
          "height": 487
        },
        "id": "cIc9k6GY7uxG",
        "outputId": "b1e41e29-bcf7-4ebf-8cbe-d2963c9cb350"
      },
      "execution_count": null,
      "outputs": [
        {
          "output_type": "display_data",
          "data": {
            "text/plain": [
              "<Figure size 800x500 with 1 Axes>"
            ],
            "image/png": "[encoded data removed]"
          },
          "metadata": {}
        }
      ]
    },
    {
      "cell_type": "markdown",
      "source": [
        "The remaning leaves of the employees are almost constant. But there is a peak at 14 which means that there are more no of employees which have 14 or 15 remaning leaves. May be there is some criterian or threshold for that set by the firms."
      ],
      "metadata": {
        "id": "pFeRC2649g1e"
      }
    },
    {
      "cell_type": "code",
      "source": [
        "plt.figure(figsize=(8, 5))\n",
        "sns.histplot(df[numeric_columns[4]], kde=True)\n",
        "plt.title(f'Univariate Analysis - {numeric_columns[4]}')\n",
        "plt.xlabel(numeric_columns[4])\n",
        "plt.ylabel('Frequency')\n",
        "plt.show()"
      ],
      "metadata": {
        "colab": {
          "base_uri": "https://localhost:8080/",
          "height": 487
        },
        "id": "gCHV-eV37xvs",
        "outputId": "8fca4184-705a-4a5d-a636-ab2fff7d43da"
      },
      "execution_count": null,
      "outputs": [
        {
          "output_type": "display_data",
          "data": {
            "text/plain": [
              "<Figure size 800x500 with 1 Axes>"
            ],
            "image/png": "[encoded data removed]"
          },
          "metadata": {}
        }
      ]
    },
    {
      "cell_type": "markdown",
      "source": [
        "There is no hard pattern in the ratings of the employees and these are random."
      ],
      "metadata": {
        "id": "qyPCmxV794-d"
      }
    },
    {
      "cell_type": "code",
      "source": [
        "plt.figure(figsize=(8, 5))\n",
        "sns.histplot(df[numeric_columns[5]], kde=True)\n",
        "plt.title(f'Univariate Analysis - {numeric_columns[5]}')\n",
        "plt.xlabel(numeric_columns[5])\n",
        "plt.ylabel('Frequency')\n",
        "plt.show()"
      ],
      "metadata": {
        "colab": {
          "base_uri": "https://localhost:8080/",
          "height": 487
        },
        "id": "a0o4U2iO72Tl",
        "outputId": "95d75878-e2e1-42f8-a787-1b3f95146d7f"
      },
      "execution_count": null,
      "outputs": [
        {
          "output_type": "display_data",
          "data": {
            "text/plain": [
              "<Figure size 800x500 with 1 Axes>"
            ],
            "image/png": "[encoded data removed]"
          },
          "metadata": {}
        }
      ]
    },
    {
      "cell_type": "markdown",
      "source": [
        "It shows that the no of unexperienced employees are less than the experienced ones. Most of the employees are almost have 0 to 1 year of experience. The no of employees decrease with the increase in past Experience. The are a few employees with the past experience of more than 5 years."
      ],
      "metadata": {
        "id": "-fNoETv--H_c"
      }
    },
    {
      "cell_type": "code",
      "source": [
        "# Categorical variables for univariate analysis\n",
        "categorical_columns = ['SEX', 'DESIGNATION', 'UNIT']\n",
        "\n",
        "# Plot individual bar charts for categorical variables\n",
        "plt.figure(figsize=(8, 5))\n",
        "sns.countplot(x=categorical_columns[0], data=df, palette='viridis')\n",
        "plt.title(f'Univariate Analysis - {categorical_columns[0]}')\n",
        "plt.xlabel(categorical_columns[0])\n",
        "plt.ylabel('Count')\n",
        "plt.show()\n",
        "df[categorical_columns[0]].value_counts()"
      ],
      "metadata": {
        "colab": {
          "base_uri": "https://localhost:8080/",
          "height": 539
        },
        "id": "6-Bl3Oeq-mqU",
        "outputId": "0ecf3711-5b74-4b0b-a989-44146103e0cf"
      },
      "execution_count": null,
      "outputs": [
        {
          "output_type": "display_data",
          "data": {
            "text/plain": [
              "<Figure size 800x500 with 1 Axes>"
            ],
            "image/png": "[encoded data removed]"
          },
          "metadata": {}
        },
        {
          "output_type": "execute_result",
          "data": {
            "text/plain": [
              "F    1344\n",
              "M    1295\n",
              "Name: SEX, dtype: int64"
            ]
          },
          "metadata": {},
          "execution_count": 86
        }
      ]
    },
    {
      "cell_type": "markdown",
      "source": [
        "It shows the gender distribution reflects a nearly equal representation of males and females, with a slightly higher number of females.\n",
        "\n",
        "\n",
        "\n",
        "\n",
        "\n",
        "\n"
      ],
      "metadata": {
        "id": "Cr5xW8p7AOju"
      }
    },
    {
      "cell_type": "code",
      "source": [
        "plt.figure(figsize=(8, 5))\n",
        "order = df[categorical_columns[1]].value_counts().index\n",
        "sns.countplot(x=categorical_columns[1], data=df, palette='viridis',order = order)\n",
        "plt.title(f'Univariate Analysis - {categorical_columns[1]}')\n",
        "plt.xlabel(categorical_columns[1])\n",
        "plt.ylabel('Count')\n",
        "plt.show()\n",
        "df[categorical_columns[1]].value_counts()"
      ],
      "metadata": {
        "colab": {
          "base_uri": "https://localhost:8080/",
          "height": 609
        },
        "id": "sWyXHIhk_HYJ",
        "outputId": "b5e95895-b6bf-4cf8-9d07-3416617d2816"
      },
      "execution_count": null,
      "outputs": [
        {
          "output_type": "display_data",
          "data": {
            "text/plain": [
              "<Figure size 800x500 with 1 Axes>"
            ],
            "image/png": "[encoded data removed]"
          },
          "metadata": {}
        },
        {
          "output_type": "execute_result",
          "data": {
            "text/plain": [
              "Analyst           1949\n",
              "Senior Analyst     356\n",
              "Associate          159\n",
              "Manager             81\n",
              "Senior Manager      62\n",
              "Director            32\n",
              "Name: DESIGNATION, dtype: int64"
            ]
          },
          "metadata": {},
          "execution_count": 87
        }
      ]
    },
    {
      "cell_type": "markdown",
      "source": [
        "This bar chart shows there are a lot of Analysts at the working firms according to this data touching almost 1950. This dataset have only a few number of employees with the designations of Manager, Senior Manager and Director. The employees with the designation of Senior Analyst and Associate are still greater in number."
      ],
      "metadata": {
        "id": "BhepDXdhBhe_"
      }
    },
    {
      "cell_type": "code",
      "source": [
        "plt.figure(figsize=(8, 5))\n",
        "order = df[categorical_columns[2]].value_counts().index\n",
        "sns.countplot(x=categorical_columns[2], data=df, palette='viridis',order = order)\n",
        "plt.title(f'Univariate Analysis - {categorical_columns[2]}')\n",
        "plt.xlabel(categorical_columns[2])\n",
        "plt.ylabel('Count')\n",
        "plt.show()\n",
        "df[categorical_columns[2]].value_counts()"
      ],
      "metadata": {
        "colab": {
          "base_uri": "https://localhost:8080/",
          "height": 609
        },
        "id": "-R1uxE3L_IH0",
        "outputId": "a7a3fc01-d29c-489c-b4c7-37814992bc4c"
      },
      "execution_count": null,
      "outputs": [
        {
          "output_type": "display_data",
          "data": {
            "text/plain": [
              "<Figure size 800x500 with 1 Axes>"
            ],
            "image/png": "[encoded data removed]"
          },
          "metadata": {}
        },
        {
          "output_type": "execute_result",
          "data": {
            "text/plain": [
              "IT            461\n",
              "Finance       446\n",
              "Operations    438\n",
              "Marketing     438\n",
              "Web           431\n",
              "Management    425\n",
              "Name: UNIT, dtype: int64"
            ]
          },
          "metadata": {},
          "execution_count": 88
        }
      ]
    },
    {
      "cell_type": "markdown",
      "source": [
        "This bar chart shows that the division of the employees in sectors of It, Finance, Operations, Marketing, Web, Management  across different units is almost uniform. There are almost equal numbers of employees in sectors of It, Finance, Operations, Marketing, Web, and Management. with slightly higher no of employees in It."
      ],
      "metadata": {
        "id": "Xea1i1yuC4Hd"
      }
    },
    {
      "cell_type": "code",
      "source": [
        "# Select numeric variables for correlation analysis\n",
        "numeric_columns = ['AGE', 'SALARY', 'LEAVES USED', 'LEAVES REMAINING', 'RATINGS', 'PAST EXP']\n",
        "\n",
        "# Calculate the correlation matrix\n",
        "correlation_matrix = df[numeric_columns].corr()\n",
        "\n",
        "# Plot the correlation matrix as a heatmap\n",
        "plt.figure(figsize=(10, 8))\n",
        "sns.heatmap(correlation_matrix, annot=True, cmap='coolwarm', fmt='.2f', linewidths=.5)\n",
        "plt.title('Bivariate Analysis - Correlation Matrix')\n",
        "plt.show()\n"
      ],
      "metadata": {
        "id": "6vHinphkFyQ6"
      },
      "execution_count": null,
      "outputs": []
    },
    {
      "cell_type": "markdown",
      "source": [
        "This correlation analysis shows that are strong positive relationships between Age and salary & Past Exp and Salary. These two relationships are important to note and use for future inference.\n",
        "\n",
        "\n",
        "\n",
        "Also there is a strong negative correlation between the leaves used and the leaves remaining but that is not a noticeable and important relation."
      ],
      "metadata": {
        "id": "wFD0djfaGpNG"
      }
    },
    {
      "cell_type": "code",
      "source": [
        "# Scatter plot for AGE vs SALARY\n",
        "plt.figure(figsize=(10, 6))\n",
        "sns.scatterplot(x='AGE', y='SALARY', data=df, color='blue')\n",
        "plt.title('Bivariate Analysis - AGE vs SALARY')\n",
        "plt.xlabel('AGE')\n",
        "plt.ylabel('SALARY')\n",
        "plt.show()"
      ],
      "metadata": {
        "id": "0rP1WY3DGjPz"
      },
      "execution_count": null,
      "outputs": []
    },
    {
      "cell_type": "markdown",
      "source": [
        "The realtion between the salary of the employees and their ages can be well observed by the above scatter plot."
      ],
      "metadata": {
        "id": "h4gnm5yZHqlv"
      }
    },
    {
      "cell_type": "code",
      "source": [
        "# Scatter plot for Past Exp vs SALARY\n",
        "plt.figure(figsize=(10, 6))\n",
        "sns.scatterplot(x='PAST EXP', y='SALARY', data=df, color='blue')\n",
        "plt.title('Bivariate Analysis - Past Experience vs SALARY')\n",
        "plt.xlabel('Past Experience')\n",
        "plt.ylabel('SALARY')\n",
        "plt.show()"
      ],
      "metadata": {
        "id": "glWTQV0gHTVe"
      },
      "execution_count": null,
      "outputs": []
    },
    {
      "cell_type": "markdown",
      "source": [
        "The realtion between the salary of the employees and their past experience can be well observed by the above scatter plot."
      ],
      "metadata": {
        "id": "-5jad7sjH2va"
      }
    },
    {
      "cell_type": "code",
      "source": [
        "df['DOJ'] = pd.to_datetime(df['DOJ'])\n",
        "\n",
        "# Extract the year of joining from the 'DOJ' column\n",
        "df['Year_of_Joining'] = df['DOJ'].dt.year\n",
        "\n",
        "# Group the data by the year of joining and count the number of employees in each year\n",
        "join_count_per_year = df['Year_of_Joining'].value_counts().sort_index()\n",
        "\n",
        "# Create a line plot for the number of employees joined in different individual years\n",
        "plt.figure(figsize=(12, 6))\n",
        "sns.lineplot(x=join_count_per_year.index, y=join_count_per_year.values, marker='o')\n",
        "plt.title('Time-Based Analysis - Number of Employees Joined in Different Years')\n",
        "plt.xlabel('Year of Joining')\n",
        "plt.ylabel('Number of Employees Joined')\n",
        "plt.show()\n",
        "df['Year_of_Joining'].value_counts()"
      ],
      "metadata": {
        "id": "bgJR4iEOJJvc"
      },
      "execution_count": null,
      "outputs": []
    },
    {
      "cell_type": "markdown",
      "source": [
        "It shows that the number of employees joined was continously increased from 2011 to 2014 when it reached the highest peak and in 2015 the employee joined count gone down.\n",
        "\n",
        "This also shows that the datset contain the data from 2009 to 2015. So this data is almost 8 years old collected till the 2015."
      ],
      "metadata": {
        "id": "rSyUcTnxJnxd"
      }
    },
    {
      "cell_type": "code",
      "source": [
        "numeric_columns = ['AGE', 'SALARY']\n",
        "\n",
        "# Create box plots for outlier detection\n",
        "plt.figure(figsize=(12, 6))\n",
        "for i, column in enumerate(numeric_columns, 1):\n",
        "    plt.subplot(1, 2, i)\n",
        "    sns.boxplot(x=df[column])\n",
        "    plt.title(f'Outlier Detection - {column}')\n",
        "    plt.xlabel(column)\n",
        "\n",
        "plt.tight_layout()\n",
        "plt.show()\n",
        "from scipy.stats import zscore\n",
        "\n",
        "# Calculate z-scores for numeric columns\n",
        "z_scores = zscore(df[numeric_columns])\n",
        "\n",
        "# Define a threshold for identifying outliers (e.g., z-score greater than 3 or less than -3)\n",
        "threshold = 3\n",
        "\n",
        "# Identify outliers based on the threshold\n",
        "outliers = (abs(z_scores) > threshold).any(axis=1)\n",
        "\n",
        "# Display the rows with outliers\n",
        "outliers_data = df[outliers]\n",
        "print(\"Rows with outliers:\")\n",
        "print(outliers_data)"
      ],
      "metadata": {
        "id": "CVISVkbiJOHN"
      },
      "execution_count": null,
      "outputs": []
    },
    {
      "cell_type": "markdown",
      "source": [
        "# **2. Feature Engineering:**"
      ],
      "metadata": {
        "id": "VemMZRc1GYty"
      }
    },
    {
      "cell_type": "code",
      "source": [
        "df.columns"
      ],
      "metadata": {
        "id": "AsVeCLlsHmNP"
      },
      "execution_count": null,
      "outputs": []
    },
    {
      "cell_type": "code",
      "source": [
        "df.head()\n"
      ],
      "metadata": {
        "id": "IAnkibYOHjg0"
      },
      "execution_count": null,
      "outputs": []
    },
    {
      "cell_type": "code",
      "source": [
        "#Creating age bins\n",
        "bins = [20, 30, 40, 50, 60, 70]\n",
        "labels = ['20-30', '30-40', '40-50', '50-60', '60-70']\n",
        "df['Age_Group'] = pd.cut(df['AGE'], bins=bins, labels=labels, right=False)\n",
        "#Creating the Leave Ratio feature\n",
        "df['Leave_Ratio'] = df['LEAVES USED'] / (df['LEAVES USED'] + df['LEAVES REMAINING'])\n",
        "# Creating features for the month of joining\n",
        "df['Month_of_Joining'] = df['DOJ'].dt.month\n",
        "#Creating the feature for Experience in Current Job in years.\n",
        "df['Current_Job_Exp'] = (2016 - df['Year_of_Joining'])\n",
        "\n"
      ],
      "metadata": {
        "id": "RC55P7KCGfMb"
      },
      "execution_count": null,
      "outputs": []
    },
    {
      "cell_type": "code",
      "source": [
        "df.info()"
      ],
      "metadata": {
        "id": "CWHX5iwAJWT5"
      },
      "execution_count": null,
      "outputs": []
    },
    {
      "cell_type": "markdown",
      "source": [
        "# **3. Data Preprocessing:**"
      ],
      "metadata": {
        "id": "1vhc3J8rVmRY"
      }
    },
    {
      "cell_type": "code",
      "source": [
        "df.dropna(inplace = True)\n",
        "df.info()"
      ],
      "metadata": {
        "id": "eylCyqtOVqIF"
      },
      "execution_count": null,
      "outputs": []
    },
    {
      "cell_type": "code",
      "source": [
        "df.dtypes"
      ],
      "metadata": {
        "id": "ACJpq4gV-vJ5"
      },
      "execution_count": null,
      "outputs": []
    },
    {
      "cell_type": "code",
      "source": [
        "# here I am removing the useless features which would'nt play any role in model development\n",
        "df.drop(columns = ['FIRST NAME', 'LAST NAME', 'DOJ', 'CURRENT DATE'], inplace = True)\n",
        "df.head()"
      ],
      "metadata": {
        "id": "iifFMp-D_Gzg"
      },
      "execution_count": null,
      "outputs": []
    },
    {
      "cell_type": "code",
      "source": [
        "#Converting objects to catergory to datatype\n",
        "objcat = ['SEX','DESIGNATION','UNIT','Age_Group']\n",
        "for colname in objcat:\n",
        "  df[objcat]=df[objcat].astype('category')\n",
        "df.info()\n"
      ],
      "metadata": {
        "id": "vFqiDtMzBxpQ"
      },
      "execution_count": null,
      "outputs": []
    },
    {
      "cell_type": "code",
      "source": [
        "# One-Hot Encoding of the Categorical Variables\n",
        "for colname in objcat:\n",
        "    df = pd.concat([df, pd.get_dummies(df[colname], prefix=colname, drop_first=True)], axis=1)\n",
        "\n",
        "# Drop the original categorical columns\n",
        "df.drop(columns=objcat, inplace=True)\n",
        "\n",
        "# Display the updated DataFrame\n",
        "df.info()"
      ],
      "metadata": {
        "id": "QJk5HX-2CH5l"
      },
      "execution_count": null,
      "outputs": []
    },
    {
      "cell_type": "code",
      "source": [
        "df.head()"
      ],
      "metadata": {
        "id": "D2IuFaKQE99-"
      },
      "execution_count": null,
      "outputs": []
    },
    {
      "cell_type": "markdown",
      "source": [
        "# **4. Machine Learning Model Development:**"
      ],
      "metadata": {
        "id": "FDLzxzSrKR2b"
      }
    },
    {
      "cell_type": "code",
      "source": [
        "import pandas as pd\n",
        "from sklearn.model_selection import train_test_split\n",
        "from sklearn.linear_model import LinearRegression\n",
        "from sklearn.tree import DecisionTreeRegressor\n",
        "from sklearn.ensemble import RandomForestRegressor, GradientBoostingRegressor\n",
        "from sklearn.preprocessing import StandardScaler"
      ],
      "metadata": {
        "id": "g1qKPtHHKUas"
      },
      "execution_count": null,
      "outputs": []
    },
    {
      "cell_type": "code",
      "source": [
        "X = df.drop('SALARY', axis=1)  # Features\n",
        "y = df['SALARY']  # Target variable\n",
        "\n",
        "# Split the dataset into training and testing sets\n",
        "X_train, X_test, y_train, y_test = train_test_split(X, y, test_size=0.2, random_state=42)\n"
      ],
      "metadata": {
        "id": "OZxD6N0nLHmt"
      },
      "execution_count": null,
      "outputs": []
    },
    {
      "cell_type": "code",
      "source": [
        "# Standardize the features (optional, but can be beneficial for some algorithms)\n",
        "scaler = StandardScaler()\n",
        "X_train_scaled = scaler.fit_transform(X_train)\n",
        "X_test_scaled = scaler.transform(X_test)"
      ],
      "metadata": {
        "id": "O6tEzPsHMcWR"
      },
      "execution_count": null,
      "outputs": []
    },
    {
      "cell_type": "code",
      "source": [
        "# Linear Regression\n",
        "linear_reg_model = LinearRegression()\n",
        "linear_reg_model.fit(X_train_scaled, y_train)\n",
        "linear_reg_predictions = linear_reg_model.predict(X_test_scaled)\n",
        "#We are using scaled data because linear regression algorithm is sensitive to the scale of the variables"
      ],
      "metadata": {
        "id": "DA8mH6MfLc8U"
      },
      "execution_count": null,
      "outputs": []
    },
    {
      "cell_type": "code",
      "source": [
        "# Decision Tree Regression\n",
        "decision_tree_model = DecisionTreeRegressor(random_state=42)\n",
        "decision_tree_model.fit(X_train, y_train)\n",
        "decision_tree_predictions = decision_tree_model.predict(X_test)"
      ],
      "metadata": {
        "id": "kaaecWVvLwRh"
      },
      "execution_count": null,
      "outputs": []
    },
    {
      "cell_type": "code",
      "source": [
        "# Random Forest Regression\n",
        "random_forest_model = RandomForestRegressor(random_state=42)\n",
        "random_forest_model.fit(X_train, y_train)\n",
        "random_forest_predictions = random_forest_model.predict(X_test)"
      ],
      "metadata": {
        "id": "D4OqiRt2Lwx7"
      },
      "execution_count": null,
      "outputs": []
    },
    {
      "cell_type": "code",
      "source": [
        "# Gradient Boosting Regression\n",
        "gradient_boosting_model = GradientBoostingRegressor(random_state=42)\n",
        "gradient_boosting_model.fit(X_train, y_train)\n",
        "gradient_boosting_predictions = gradient_boosting_model.predict(X_test)\n"
      ],
      "metadata": {
        "id": "3cTh4fZhL0Gg"
      },
      "execution_count": null,
      "outputs": []
    },
    {
      "cell_type": "markdown",
      "source": [
        "# **5. Model Evaluation**"
      ],
      "metadata": {
        "id": "hLCEjwvnM6_B"
      }
    },
    {
      "cell_type": "code",
      "source": [
        "from sklearn.metrics import mean_absolute_error, mean_squared_error, r2_score\n",
        "\n",
        "# Evaluate Linear Regression Model\n",
        "linear_reg_mae = mean_absolute_error(y_test, linear_reg_predictions)\n",
        "linear_reg_mse = mean_squared_error(y_test, linear_reg_predictions)\n",
        "linear_reg_rmse = mean_squared_error(y_test, linear_reg_predictions, squared=False)\n",
        "linear_reg_r2 = r2_score(y_test, linear_reg_predictions)\n",
        "\n",
        "# Evaluate Decision Tree Model\n",
        "decision_tree_mae = mean_absolute_error(y_test, decision_tree_predictions)\n",
        "decision_tree_mse = mean_squared_error(y_test, decision_tree_predictions)\n",
        "decision_tree_rmse = mean_squared_error(y_test, decision_tree_predictions, squared=False)\n",
        "decision_tree_r2 = r2_score(y_test, decision_tree_predictions)\n",
        "\n",
        "# Evaluate Random Forest Model\n",
        "random_forest_mae = mean_absolute_error(y_test, random_forest_predictions)\n",
        "random_forest_mse = mean_squared_error(y_test, random_forest_predictions)\n",
        "random_forest_rmse = mean_squared_error(y_test, random_forest_predictions, squared=False)\n",
        "random_forest_r2 = r2_score(y_test, random_forest_predictions)\n",
        "\n",
        "# Evaluate Gradient Boosting Model\n",
        "gradient_boosting_mae = mean_absolute_error(y_test, gradient_boosting_predictions)\n",
        "gradient_boosting_mse = mean_squared_error(y_test, gradient_boosting_predictions)\n",
        "gradient_boosting_rmse = mean_squared_error(y_test, gradient_boosting_predictions, squared=False)\n",
        "gradient_boosting_r2 = r2_score(y_test, gradient_boosting_predictions)\n",
        "\n",
        "# Display the evaluation results\n",
        "print(\"Linear Regression:\")\n",
        "print(\"MAE:\", linear_reg_mae, \"MSE:\", linear_reg_mse, \"RMSE:\", linear_reg_rmse, \"R-squared:\", linear_reg_r2)\n",
        "\n",
        "print(\"\\nDecision Tree Regression:\")\n",
        "print(\"MAE:\", decision_tree_mae, \"MSE:\", decision_tree_mse, \"RMSE:\", decision_tree_rmse, \"R-squared:\", decision_tree_r2)\n",
        "\n",
        "print(\"\\nRandom Forest Regression:\")\n",
        "print(\"MAE:\", random_forest_mae, \"MSE:\", random_forest_mse, \"RMSE:\", random_forest_rmse, \"R-squared:\", random_forest_r2)\n",
        "\n",
        "print(\"\\nGradient Boosting Regression:\")\n",
        "print(\"MAE:\", gradient_boosting_mae, \"MSE:\", gradient_boosting_mse, \"RMSE:\", gradient_boosting_rmse, \"R-squared:\", gradient_boosting_r2)\n"
      ],
      "metadata": {
        "id": "4-hLgZbYM2gA"
      },
      "execution_count": null,
      "outputs": []
    },
    {
      "cell_type": "markdown",
      "source": [
        "\n",
        "Evaluating the performance of your regression models involves analyzing the metrics you've calculated, such as Mean Absolute Error (MAE), Mean Squared Error (MSE), Root Mean Squared Error (RMSE), and R-squared (R2) score. Here's a general guideline on how to interpret these metrics:\n",
        "\n",
        "Mean Absolute Error (MAE):\n",
        "\n",
        "MAE represents the average absolute difference between the predicted and actual values. A lower MAE indicates better accuracy.\n",
        "Mean Squared Error (MSE):\n",
        "\n",
        "MSE measures the average squared difference between the predicted and actual values. It amplifies the impact of larger errors. A lower MSE indicates better accuracy.\n",
        "Root Mean Squared Error (RMSE):\n",
        "\n",
        "RMSE is the square root of MSE and provides a more interpretable metric. Like MSE, a lower RMSE indicates better accuracy.\n",
        "R-squared (R2) Score:\n",
        "\n",
        "R-squared represents the proportion of the variance in the dependent variable (target) that is predictable from the independent variables (features). It ranges from 0 to 1, where 1 indicates a perfect fit. Higher R-squared values are desirable.\n",
        "\n",
        "\n",
        "We need low mae,mse and rmse while a more accurate model has a high r-squared value."
      ],
      "metadata": {
        "id": "DNeif5q3Oq8D"
      }
    },
    {
      "cell_type": "code",
      "source": [
        "import matplotlib.pyplot as plt\n",
        "import numpy as np\n",
        "\n",
        "# Function to create scatter plots for predictions vs actual values\n",
        "def plot_predictions(model_name, predictions, actual_values):\n",
        "    plt.figure(figsize=(8, 6))\n",
        "    plt.scatter(actual_values, predictions, alpha=0.5, label='Predictions vs Actual Values')\n",
        "\n",
        "    # Fit an ideal line\n",
        "    x_line = np.linspace(min(actual_values), max(actual_values), 100)\n",
        "    y_line = x_line\n",
        "    plt.plot(x_line, y_line, color='red', linestyle='--', label='Ideal Line (Predictions = Actual)')\n",
        "\n",
        "    plt.title(f'{model_name} - Predictions vs Actual Values')\n",
        "    plt.xlabel('Actual Values')\n",
        "    plt.ylabel('Predictions')\n",
        "    plt.legend()\n",
        "    plt.grid(True)\n",
        "    plt.show()\n",
        "\n",
        "# Plot for Linear Regression\n",
        "plot_predictions('Linear Regression', linear_reg_predictions, y_test)\n",
        "\n",
        "# Plot for Decision Tree Regression\n",
        "plot_predictions('Decision Tree Regression', decision_tree_predictions, y_test)\n",
        "\n",
        "# Plot for Random Forest Regression\n",
        "plot_predictions('Random Forest Regression', random_forest_predictions, y_test)\n",
        "\n",
        "# Plot for Gradient Boosting Regression\n",
        "plot_predictions('Gradient Boosting Regression', gradient_boosting_predictions, y_test)\n"
      ],
      "metadata": {
        "id": "xDlVabbWOtOD"
      },
      "execution_count": null,
      "outputs": []
    },
    {
      "cell_type": "markdown",
      "source": [
        "# **The most accurate model :**\n",
        "\n",
        "According to the values of all the evaluation metrics. In this scenario Linear Regression model is the best performning model because it has low values of MAE, RMSE, MSE while a high value of R-Squared. It shows it best performance in the present case. It's good performance is also shown by the scatter plot and the best fitting line into that."
      ],
      "metadata": {
        "id": "N7Ta4RuVPrBe"
      }
    },
    {
      "cell_type": "markdown",
      "source": [
        "# **6_Model Deployment:**"
      ],
      "metadata": {
        "id": "AusGcamBXfYB"
      }
    },
    {
      "cell_type": "code",
      "source": [
        "import joblib\n",
        "#Saving the model\n",
        "joblib.dump(linear_reg_model,\"linear_regression_model.joblib\")\n",
        "#Saving the scaler\n",
        "joblib.dump(scaler, \"lin_reg_scaler.joblib\")"
      ],
      "metadata": {
        "id": "FksOjA8sQSOs"
      },
      "execution_count": null,
      "outputs": []
    },
    {
      "cell_type": "code",
      "source": [
        "from flask import Flask, request, jsonify\n",
        "import numpy as np\n",
        "from sklearn.linear_model import LinearRegression\n",
        "from sklearn.preprocessing import StandardScaler\n",
        "import joblib\n",
        "\n",
        "app = Flask(__name__)\n",
        "\n",
        "# Load your pre-trained linear regression model and scaler here\n",
        "# Replace 'path_to_model.joblib' and 'path_to_scaler.joblib' with the actual file paths\n",
        "model = joblib.load('/content/linear_regression_model.joblib')\n",
        "scaler = joblib.load('/content/lin_reg_scaler.joblib')\n",
        "\n",
        "# Define a route for prediction\n",
        "@app.route('/predict', methods=['POST'])\n",
        "def predict():\n",
        "    try:\n",
        "        # Get input features from the request\n",
        "        data = request.get_json()\n",
        "        features = np.array(data['features']).reshape(1, -1)\n",
        "\n",
        "        # Preprocess input features (if needed)\n",
        "        if scaler:\n",
        "            features = scaler.transform(features)\n",
        "\n",
        "        # Make predictions\n",
        "        prediction = model.predict(features)\n",
        "\n",
        "        return jsonify({'prediction': prediction[0]})\n",
        "\n",
        "    except Exception as e:\n",
        "        return jsonify({'error': str(e)})\n",
        "\n",
        "if __name__ == '__main__':\n",
        "    app.run(port=8085, debug=True)\n"
      ],
      "metadata": {
        "colab": {
          "base_uri": "https://localhost:8080/"
        },
        "id": "wzmRWjyxZnsU",
        "outputId": "f4b9e247-078c-448f-d278-9d73bbb0d6d2"
      },
      "execution_count": null,
      "outputs": [
        {
          "metadata": {
            "tags": null
          },
          "name": "stdout",
          "output_type": "stream",
          "text": [
            " * Serving Flask app '__main__'\n",
            " * Debug mode: on\n"
          ]
        },
        {
          "metadata": {
            "tags": null
          },
          "name": "stderr",
          "output_type": "stream",
          "text": [
            "INFO:werkzeug:\u001b[31m\u001b[1mWARNING: This is a development server. Do not use it in a production deployment. Use a production WSGI server instead.\u001b[0m\n",
            " * Running on http://127.0.0.1:8085\n",
            "INFO:werkzeug:\u001b[33mPress CTRL+C to quit\u001b[0m\n",
            "INFO:werkzeug: * Restarting with stat\n"
          ]
        }
      ]
    }
  ]
}